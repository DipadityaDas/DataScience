{
 "cells": [
  {
   "cell_type": "code",
   "execution_count": 45,
   "metadata": {},
   "outputs": [],
   "source": [
    "import pandas as pd\n",
    "import numpy as np\n",
    "import os\n",
    "\n",
    "from bqplot import LogScale, LinearScale, OrdinalColorScale, ColorAxis, Axis, Scatter, Lines, CATEGORY10, Label, Figure, Tooltip\n",
    "\n",
    "from ipywidgets import HBox, VBox, IntSlider, Play, jslink"
   ]
  },
  {
   "cell_type": "code",
   "execution_count": 46,
   "metadata": {},
   "outputs": [],
   "source": [
    "initial_year = 1800"
   ]
  },
  {
   "cell_type": "code",
   "execution_count": 47,
   "metadata": {},
   "outputs": [],
   "source": [
    "data = pd.read_json('nations.json')"
   ]
  },
  {
   "cell_type": "code",
   "execution_count": 48,
   "metadata": {},
   "outputs": [
    {
     "data": {
      "text/html": [
       "<div>\n",
       "<style scoped>\n",
       "    .dataframe tbody tr th:only-of-type {\n",
       "        vertical-align: middle;\n",
       "    }\n",
       "\n",
       "    .dataframe tbody tr th {\n",
       "        vertical-align: top;\n",
       "    }\n",
       "\n",
       "    .dataframe thead th {\n",
       "        text-align: right;\n",
       "    }\n",
       "</style>\n",
       "<table border=\"1\" class=\"dataframe\">\n",
       "  <thead>\n",
       "    <tr style=\"text-align: right;\">\n",
       "      <th></th>\n",
       "      <th>name</th>\n",
       "      <th>region</th>\n",
       "      <th>income</th>\n",
       "      <th>population</th>\n",
       "      <th>lifeExpectancy</th>\n",
       "    </tr>\n",
       "  </thead>\n",
       "  <tbody>\n",
       "    <tr>\n",
       "      <td>0</td>\n",
       "      <td>Angola</td>\n",
       "      <td>Sub-Saharan Africa</td>\n",
       "      <td>[[1800, 359.93], [1820, 359.93], [1913, 556.12...</td>\n",
       "      <td>[[1800, 1567028], [1820, 1567028], [1940, 3738...</td>\n",
       "      <td>[[1800, 26.98], [1940, 26.98], [1950, 29.22], ...</td>\n",
       "    </tr>\n",
       "    <tr>\n",
       "      <td>1</td>\n",
       "      <td>Benin</td>\n",
       "      <td>Sub-Saharan Africa</td>\n",
       "      <td>[[1800, 553.72], [1820, 553.72], [1913, 855.53...</td>\n",
       "      <td>[[1800, 636559], [1820, 636559], [1950, 167266...</td>\n",
       "      <td>[[1800, 31], [1944, 31], [1950, 36.53], [1951,...</td>\n",
       "    </tr>\n",
       "    <tr>\n",
       "      <td>2</td>\n",
       "      <td>Botswana</td>\n",
       "      <td>Sub-Saharan Africa</td>\n",
       "      <td>[[1800, 407.36], [1820, 407.36], [1913, 629.4]...</td>\n",
       "      <td>[[1800, 121000], [1904, 121000], [1911, 125000...</td>\n",
       "      <td>[[1800, 33.6], [1945, 33.6], [1950, 46.82], [1...</td>\n",
       "    </tr>\n",
       "    <tr>\n",
       "      <td>3</td>\n",
       "      <td>Burkina Faso</td>\n",
       "      <td>Sub-Saharan Africa</td>\n",
       "      <td>[[1800, 454.33], [1820, 454.33], [1913, 497.44...</td>\n",
       "      <td>[[1800, 1665421], [1820, 1665421], [1950, 4376...</td>\n",
       "      <td>[[1800, 29.2], [1945, 29.2], [1950, 32.89], [1...</td>\n",
       "    </tr>\n",
       "    <tr>\n",
       "      <td>4</td>\n",
       "      <td>Burundi</td>\n",
       "      <td>Sub-Saharan Africa</td>\n",
       "      <td>[[1800, 447.59], [1820, 447.59], [1913, 353.82...</td>\n",
       "      <td>[[1800, 899097], [1820, 899097], [1950, 236252...</td>\n",
       "      <td>[[1800, 31.5], [1945, 31.5], [1950, 38.42], [1...</td>\n",
       "    </tr>\n",
       "  </tbody>\n",
       "</table>\n",
       "</div>"
      ],
      "text/plain": [
       "           name              region  \\\n",
       "0        Angola  Sub-Saharan Africa   \n",
       "1         Benin  Sub-Saharan Africa   \n",
       "2      Botswana  Sub-Saharan Africa   \n",
       "3  Burkina Faso  Sub-Saharan Africa   \n",
       "4       Burundi  Sub-Saharan Africa   \n",
       "\n",
       "                                              income  \\\n",
       "0  [[1800, 359.93], [1820, 359.93], [1913, 556.12...   \n",
       "1  [[1800, 553.72], [1820, 553.72], [1913, 855.53...   \n",
       "2  [[1800, 407.36], [1820, 407.36], [1913, 629.4]...   \n",
       "3  [[1800, 454.33], [1820, 454.33], [1913, 497.44...   \n",
       "4  [[1800, 447.59], [1820, 447.59], [1913, 353.82...   \n",
       "\n",
       "                                          population  \\\n",
       "0  [[1800, 1567028], [1820, 1567028], [1940, 3738...   \n",
       "1  [[1800, 636559], [1820, 636559], [1950, 167266...   \n",
       "2  [[1800, 121000], [1904, 121000], [1911, 125000...   \n",
       "3  [[1800, 1665421], [1820, 1665421], [1950, 4376...   \n",
       "4  [[1800, 899097], [1820, 899097], [1950, 236252...   \n",
       "\n",
       "                                      lifeExpectancy  \n",
       "0  [[1800, 26.98], [1940, 26.98], [1950, 29.22], ...  \n",
       "1  [[1800, 31], [1944, 31], [1950, 36.53], [1951,...  \n",
       "2  [[1800, 33.6], [1945, 33.6], [1950, 46.82], [1...  \n",
       "3  [[1800, 29.2], [1945, 29.2], [1950, 32.89], [1...  \n",
       "4  [[1800, 31.5], [1945, 31.5], [1950, 38.42], [1...  "
      ]
     },
     "execution_count": 48,
     "metadata": {},
     "output_type": "execute_result"
    }
   ],
   "source": [
    "data.head()"
   ]
  },
  {
   "cell_type": "code",
   "execution_count": 49,
   "metadata": {},
   "outputs": [],
   "source": [
    "def clean_data(data):\n",
    "    for column in ['income', 'lifeExpectancy', 'population']:\n",
    "        data = data.drop(data[data[column].apply(len) <= 4].index)\n",
    "    return data\n",
    "\n",
    "def extrap_interp(data):\n",
    "    data = np.array(data)\n",
    "    x_range = np.arange(1800, 2009, 1.)\n",
    "    y_range = np.interp(x_range, data[:, 0], data[:, 1])\n",
    "    return y_range\n",
    "\n",
    "def extrap_data(data):\n",
    "    for column in ['income', 'lifeExpectancy', 'population']:\n",
    "        data[column] = data[column].apply(extrap_interp)\n",
    "    return data"
   ]
  },
  {
   "cell_type": "code",
   "execution_count": 50,
   "metadata": {},
   "outputs": [],
   "source": [
    "data = clean_data(data)\n",
    "data = extrap_data(data)"
   ]
  },
  {
   "cell_type": "code",
   "execution_count": 51,
   "metadata": {},
   "outputs": [],
   "source": [
    "\n",
    "\n",
    "income_min, income_max = np.min(data['income'].apply(np.min)), np.max(data['income'].apply(np.max))\n",
    "life_exp_min, life_exp_max = np.min(data['lifeExpectancy'].apply(np.min)), np.max(data['lifeExpectancy'].apply(np.max))\n",
    "pop_min, pop_max = np.min(data['population'].apply(np.min)), np.max(data['population'].apply(np.max))\n",
    "\n"
   ]
  },
  {
   "cell_type": "code",
   "execution_count": 52,
   "metadata": {},
   "outputs": [],
   "source": [
    "def get_data(year):\n",
    "    year_index = year - 1800\n",
    "    income = data['income'].apply(lambda x: x[year_index])\n",
    "    life_exp = data['lifeExpectancy'].apply(lambda x: x[year_index])\n",
    "    pop =  data['population'].apply(lambda x: x[year_index])\n",
    "    return income, life_exp, pop"
   ]
  },
  {
   "cell_type": "code",
   "execution_count": 53,
   "metadata": {},
   "outputs": [],
   "source": [
    "tt = Tooltip(fields=['name', 'x', 'y'], labels=['Country Name', 'Income per Capita', 'Life Expectancy'])"
   ]
  },
  {
   "cell_type": "code",
   "execution_count": 54,
   "metadata": {},
   "outputs": [],
   "source": [
    "year_label = Label(x=[0.75], y=[0.10], default_size=46, font_weight='bolder', colors=['orange'],\n",
    "                   text=[str(initial_year)], enable_move=True)"
   ]
  },
  {
   "cell_type": "code",
   "execution_count": 55,
   "metadata": {},
   "outputs": [],
   "source": [
    "x_sc = LogScale(min=income_min, max=income_max)\n",
    "y_sc = LinearScale(min=life_exp_min, max=life_exp_max)\n",
    "c_sc = OrdinalColorScale(domain=data['region'].unique().tolist(), colors=CATEGORY10[:6])\n",
    "size_sc = LinearScale(min=pop_min, max=pop_max)"
   ]
  },
  {
   "cell_type": "code",
   "execution_count": 56,
   "metadata": {},
   "outputs": [],
   "source": [
    "\n",
    "\n",
    "ax_y = Axis(label='Life Expectancy', scale=y_sc, orientation='vertical', side='left', grid_lines='solid')\n",
    "ax_x = Axis(label='Income per Capita', scale=x_sc, grid_lines='solid')\n",
    "\n"
   ]
  },
  {
   "cell_type": "code",
   "execution_count": 57,
   "metadata": {},
   "outputs": [],
   "source": [
    "\n",
    "\n",
    "# Start with the first year's data\n",
    "cap_income, life_exp, pop = get_data(initial_year)\n",
    "\n"
   ]
  },
  {
   "cell_type": "code",
   "execution_count": 58,
   "metadata": {},
   "outputs": [],
   "source": [
    "wealth_scat = Scatter(x=cap_income, y=life_exp, color=data['region'], size=pop,\n",
    "                      names=data['name'], display_names=False,\n",
    "                      scales={'x': x_sc, 'y': y_sc, 'color': c_sc, 'size': size_sc},\n",
    "                      default_size=4112, tooltip=tt, animate=True, stroke='Black',\n",
    "                      unhovered_style={'opacity': 0.5})"
   ]
  },
  {
   "cell_type": "code",
   "execution_count": 59,
   "metadata": {},
   "outputs": [],
   "source": [
    "nation_line = Lines(x=data['income'][0], y=data['lifeExpectancy'][0], colors=['Gray'],\n",
    "                       scales={'x': x_sc, 'y': y_sc}, visible=False)"
   ]
  },
  {
   "cell_type": "code",
   "execution_count": 60,
   "metadata": {},
   "outputs": [],
   "source": [
    "time_interval = 10"
   ]
  },
  {
   "cell_type": "code",
   "execution_count": 61,
   "metadata": {},
   "outputs": [],
   "source": [
    "fig = Figure(marks=[wealth_scat, year_label, nation_line], axes=[ax_x, ax_y],\n",
    "             title='Health and Wealth of Nations', animation_duration=time_interval)"
   ]
  },
  {
   "cell_type": "code",
   "execution_count": 62,
   "metadata": {},
   "outputs": [],
   "source": [
    "year_slider = IntSlider(min=1800, max=2008, step=1, description='Year', value=initial_year)"
   ]
  },
  {
   "cell_type": "code",
   "execution_count": 63,
   "metadata": {},
   "outputs": [],
   "source": [
    "def hover_changed(change):\n",
    "    if change.new is not None:\n",
    "        nation_line.x = data[data['name'] == wealth_scat.names[change.new]]['income'].values[0]\n",
    "        nation_line.y = data[data['name'] == wealth_scat.names[change.new]]['lifeExpectancy'].values[0]\n",
    "        nation_line.visible = True\n",
    "    else:\n",
    "        nation_line.visible = False\n",
    "        \n",
    "wealth_scat.observe(hover_changed, 'hovered_point')"
   ]
  },
  {
   "cell_type": "code",
   "execution_count": 64,
   "metadata": {},
   "outputs": [],
   "source": [
    "\n",
    "\n",
    "def year_changed(change):\n",
    "    wealth_scat.x, wealth_scat.y, wealth_scat.size = get_data(year_slider.value)\n",
    "    year_label.text = [str(year_slider.value)]\n",
    "\n",
    "year_slider.observe(year_changed, 'value')\n",
    "\n"
   ]
  },
  {
   "cell_type": "code",
   "execution_count": 65,
   "metadata": {},
   "outputs": [
    {
     "data": {
      "text/plain": [
       "Link(source=(Play(value=1800, interval=10, max=2008, min=1800), 'value'), target=(IntSlider(value=1800, descri…"
      ]
     },
     "metadata": {},
     "output_type": "display_data"
    }
   ],
   "source": [
    "play_button = Play(min=1800, max=2008, interval=time_interval)\n",
    "jslink((play_button, 'value'), (year_slider, 'value'))"
   ]
  },
  {
   "cell_type": "code",
   "execution_count": 66,
   "metadata": {},
   "outputs": [
    {
     "data": {
      "application/vnd.jupyter.widget-view+json": {
       "model_id": "f2b12c1712a44d17aeba1f105c4486cd",
       "version_major": 2,
       "version_minor": 0
      },
      "text/plain": [
       "VBox(children=(HBox(children=(Play(value=1800, interval=10, max=2008, min=1800), IntSlider(value=1800, descrip…"
      ]
     },
     "metadata": {},
     "output_type": "display_data"
    }
   ],
   "source": [
    "VBox([HBox([play_button, year_slider]), fig])"
   ]
  },
  {
   "cell_type": "code",
   "execution_count": null,
   "metadata": {},
   "outputs": [],
   "source": []
  }
 ],
 "metadata": {
  "kernelspec": {
   "display_name": "Python 3",
   "language": "python",
   "name": "python3"
  },
  "language_info": {
   "codemirror_mode": {
    "name": "ipython",
    "version": 3
   },
   "file_extension": ".py",
   "mimetype": "text/x-python",
   "name": "python",
   "nbconvert_exporter": "python",
   "pygments_lexer": "ipython3",
   "version": "3.6.9"
  },
  "widgets": {
   "application/vnd.jupyter.widget-state+json": {
    "state": {
     "04b2664435fe4bfa8373c98be374a958": {
      "model_module": "@jupyter-widgets/base",
      "model_module_version": "1.2.0",
      "model_name": "LayoutModel",
      "state": {}
     },
     "058f8b3c47f3462680b407902c239b0e": {
      "model_module": "@jupyter-widgets/controls",
      "model_module_version": "1.5.0",
      "model_name": "IntSliderModel",
      "state": {
       "description": "Year",
       "layout": "IPY_MODEL_67f6156bf3144db3be78c79c02768abc",
       "max": 2008,
       "min": 1800,
       "style": "IPY_MODEL_b12575570e0c411788b64075627c46ab",
       "value": 1800
      }
     },
     "0b4820ee5498470f86b36f48f973ebd0": {
      "model_module": "@jupyter-widgets/base",
      "model_module_version": "1.2.0",
      "model_name": "LayoutModel",
      "state": {}
     },
     "0c77dc821acd44098ae3a56e9fb2422f": {
      "model_module": "@jupyter-widgets/base",
      "model_module_version": "1.2.0",
      "model_name": "LayoutModel",
      "state": {}
     },
     "30f1b5d755f14141bdaec49b15b4d576": {
      "model_module": "@jupyter-widgets/controls",
      "model_module_version": "1.5.0",
      "model_name": "DescriptionStyleModel",
      "state": {
       "description_width": ""
      }
     },
     "333e1dc761c5459fbef8651b4f23e78c": {
      "model_module": "@jupyter-widgets/controls",
      "model_module_version": "1.5.0",
      "model_name": "PlayModel",
      "state": {
       "_playing": true,
       "interval": 10,
       "layout": "IPY_MODEL_64d4bae406ff4624ba941269bcf99c73",
       "max": 2008,
       "min": 1800,
       "style": "IPY_MODEL_30f1b5d755f14141bdaec49b15b4d576",
       "value": 1988
      }
     },
     "402da65f0fd142cdbea39cfe1e7cb7ec": {
      "model_module": "@jupyter-widgets/controls",
      "model_module_version": "1.5.0",
      "model_name": "LinkModel",
      "state": {
       "source": [
        "IPY_MODEL_333e1dc761c5459fbef8651b4f23e78c",
        "value"
       ],
       "target": [
        "IPY_MODEL_97bfc9a6dba6459099642b5b1ced48ef",
        "value"
       ]
      }
     },
     "48409fea2c3f4d0c9c28033878685aa4": {
      "model_module": "@jupyter-widgets/base",
      "model_module_version": "1.2.0",
      "model_name": "LayoutModel",
      "state": {}
     },
     "4964315dc6424ee39f1d806f4daf4c8f": {
      "model_module": "@jupyter-widgets/base",
      "model_module_version": "1.2.0",
      "model_name": "LayoutModel",
      "state": {}
     },
     "5399d1d8430a4e1197ceeab9813dce64": {
      "model_module": "@jupyter-widgets/base",
      "model_module_version": "1.2.0",
      "model_name": "LayoutModel",
      "state": {}
     },
     "5622795af606450cb55d7b5c8b8fd77d": {
      "model_module": "@jupyter-widgets/controls",
      "model_module_version": "1.5.0",
      "model_name": "PlayModel",
      "state": {
       "interval": 10,
       "layout": "IPY_MODEL_afaf8557e58f46918b70830ddc9b122a",
       "max": 2008,
       "min": 1800,
       "style": "IPY_MODEL_7383db0307d8431cb04cea586b548605",
       "value": 1800
      }
     },
     "56aa87a576874ea1bce50774c674abb6": {
      "model_module": "@jupyter-widgets/controls",
      "model_module_version": "1.5.0",
      "model_name": "LinkModel",
      "state": {
       "source": [
        "IPY_MODEL_5622795af606450cb55d7b5c8b8fd77d",
        "value"
       ],
       "target": [
        "IPY_MODEL_de9aa12e11a9447d93cdde77bccf4358",
        "value"
       ]
      }
     },
     "64d4bae406ff4624ba941269bcf99c73": {
      "model_module": "@jupyter-widgets/base",
      "model_module_version": "1.2.0",
      "model_name": "LayoutModel",
      "state": {}
     },
     "67f6156bf3144db3be78c79c02768abc": {
      "model_module": "@jupyter-widgets/base",
      "model_module_version": "1.2.0",
      "model_name": "LayoutModel",
      "state": {}
     },
     "6a8de28c4b1c4089bdf360a1f533f64e": {
      "model_module": "@jupyter-widgets/controls",
      "model_module_version": "1.5.0",
      "model_name": "DescriptionStyleModel",
      "state": {
       "description_width": ""
      }
     },
     "7383db0307d8431cb04cea586b548605": {
      "model_module": "@jupyter-widgets/controls",
      "model_module_version": "1.5.0",
      "model_name": "DescriptionStyleModel",
      "state": {
       "description_width": ""
      }
     },
     "90b07ba0e2d5491b909c35d43d33cb78": {
      "model_module": "@jupyter-widgets/base",
      "model_module_version": "1.2.0",
      "model_name": "LayoutModel",
      "state": {}
     },
     "9103d5724f434ec2b610a7c7e5f00470": {
      "model_module": "@jupyter-widgets/controls",
      "model_module_version": "1.5.0",
      "model_name": "HBoxModel",
      "state": {
       "children": [
        "IPY_MODEL_9113a972cdd34ac78eb3d78e1402ef1e",
        "IPY_MODEL_058f8b3c47f3462680b407902c239b0e"
       ],
       "layout": "IPY_MODEL_936ae938a09647ab924644208c27abd2"
      }
     },
     "9113a972cdd34ac78eb3d78e1402ef1e": {
      "model_module": "@jupyter-widgets/controls",
      "model_module_version": "1.5.0",
      "model_name": "PlayModel",
      "state": {
       "interval": 10,
       "layout": "IPY_MODEL_0b4820ee5498470f86b36f48f973ebd0",
       "max": 2008,
       "min": 1800,
       "style": "IPY_MODEL_6a8de28c4b1c4089bdf360a1f533f64e",
       "value": 1800
      }
     },
     "936ae938a09647ab924644208c27abd2": {
      "model_module": "@jupyter-widgets/base",
      "model_module_version": "1.2.0",
      "model_name": "LayoutModel",
      "state": {}
     },
     "93f34ecd20bd4f3db3d07e47eb1431fa": {
      "model_module": "@jupyter-widgets/controls",
      "model_module_version": "1.5.0",
      "model_name": "HBoxModel",
      "state": {
       "children": [
        "IPY_MODEL_333e1dc761c5459fbef8651b4f23e78c",
        "IPY_MODEL_97bfc9a6dba6459099642b5b1ced48ef"
       ],
       "layout": "IPY_MODEL_48409fea2c3f4d0c9c28033878685aa4"
      }
     },
     "95f8e344aebc4435a064f8359b7cfbc8": {
      "model_module": "@jupyter-widgets/base",
      "model_module_version": "1.2.0",
      "model_name": "LayoutModel",
      "state": {}
     },
     "97bfc9a6dba6459099642b5b1ced48ef": {
      "model_module": "@jupyter-widgets/controls",
      "model_module_version": "1.5.0",
      "model_name": "IntSliderModel",
      "state": {
       "description": "Year",
       "layout": "IPY_MODEL_a48272593bf5404390db5e9168d36017",
       "max": 2008,
       "min": 1800,
       "style": "IPY_MODEL_e4c4df76f86748e2b0a6a5013beb05fb",
       "value": 1988
      }
     },
     "a48272593bf5404390db5e9168d36017": {
      "model_module": "@jupyter-widgets/base",
      "model_module_version": "1.2.0",
      "model_name": "LayoutModel",
      "state": {}
     },
     "a5a105bc4e2947b896dcad8e59e35cfc": {
      "model_module": "@jupyter-widgets/base",
      "model_module_version": "1.2.0",
      "model_name": "LayoutModel",
      "state": {}
     },
     "afaf8557e58f46918b70830ddc9b122a": {
      "model_module": "@jupyter-widgets/base",
      "model_module_version": "1.2.0",
      "model_name": "LayoutModel",
      "state": {}
     },
     "b12575570e0c411788b64075627c46ab": {
      "model_module": "@jupyter-widgets/controls",
      "model_module_version": "1.5.0",
      "model_name": "SliderStyleModel",
      "state": {
       "description_width": ""
      }
     },
     "be5ee2f6cf1e43b0a60266c76f7292b2": {
      "model_module": "@jupyter-widgets/controls",
      "model_module_version": "1.5.0",
      "model_name": "HBoxModel",
      "state": {
       "children": [
        "IPY_MODEL_5622795af606450cb55d7b5c8b8fd77d",
        "IPY_MODEL_de9aa12e11a9447d93cdde77bccf4358"
       ],
       "layout": "IPY_MODEL_0c77dc821acd44098ae3a56e9fb2422f"
      }
     },
     "c801f2cbd880414e9be5a1eacf66ce2a": {
      "model_module": "@jupyter-widgets/base",
      "model_module_version": "1.2.0",
      "model_name": "LayoutModel",
      "state": {}
     },
     "de9aa12e11a9447d93cdde77bccf4358": {
      "model_module": "@jupyter-widgets/controls",
      "model_module_version": "1.5.0",
      "model_name": "IntSliderModel",
      "state": {
       "description": "Year",
       "layout": "IPY_MODEL_5399d1d8430a4e1197ceeab9813dce64",
       "max": 2008,
       "min": 1800,
       "style": "IPY_MODEL_e582882e610b4ad68d3852e41429d5d7",
       "value": 1800
      }
     },
     "e1eb26b4f915474591b8fb6bdf56d38c": {
      "model_module": "@jupyter-widgets/controls",
      "model_module_version": "1.5.0",
      "model_name": "LinkModel",
      "state": {
       "source": [
        "IPY_MODEL_9113a972cdd34ac78eb3d78e1402ef1e",
        "value"
       ],
       "target": [
        "IPY_MODEL_058f8b3c47f3462680b407902c239b0e",
        "value"
       ]
      }
     },
     "e44aa4165c964fc890f0efb03ff09434": {
      "model_module": "@jupyter-widgets/base",
      "model_module_version": "1.2.0",
      "model_name": "LayoutModel",
      "state": {}
     },
     "e4c4df76f86748e2b0a6a5013beb05fb": {
      "model_module": "@jupyter-widgets/controls",
      "model_module_version": "1.5.0",
      "model_name": "SliderStyleModel",
      "state": {
       "description_width": ""
      }
     },
     "e582882e610b4ad68d3852e41429d5d7": {
      "model_module": "@jupyter-widgets/controls",
      "model_module_version": "1.5.0",
      "model_name": "SliderStyleModel",
      "state": {
       "description_width": ""
      }
     },
     "e673fda1c31f4908ab3d71bd417dac04": {
      "model_module": "@jupyter-widgets/base",
      "model_module_version": "1.2.0",
      "model_name": "LayoutModel",
      "state": {}
     },
     "eac0877817dc494191e314a0967a36e7": {
      "model_module": "@jupyter-widgets/base",
      "model_module_version": "1.2.0",
      "model_name": "LayoutModel",
      "state": {}
     }
    },
    "version_major": 2,
    "version_minor": 0
   }
  }
 },
 "nbformat": 4,
 "nbformat_minor": 4
}
