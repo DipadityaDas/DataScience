{
 "cells": [
  {
   "cell_type": "code",
   "execution_count": 5,
   "metadata": {},
   "outputs": [],
   "source": [
    "import numpy as np"
   ]
  },
  {
   "cell_type": "code",
   "execution_count": 2,
   "metadata": {},
   "outputs": [
    {
     "data": {
      "text/plain": [
       "[1.73, 1.68, 1.71, 1.89, 1.79]"
      ]
     },
     "execution_count": 2,
     "metadata": {},
     "output_type": "execute_result"
    }
   ],
   "source": [
    "height = [1.73, 1.68, 1.71, 1.89, 1.79]\n",
    "height"
   ]
  },
  {
   "cell_type": "code",
   "execution_count": 3,
   "metadata": {},
   "outputs": [
    {
     "data": {
      "text/plain": [
       "[65.4, 59.2, 63.6, 88.4, 68.7]"
      ]
     },
     "execution_count": 3,
     "metadata": {},
     "output_type": "execute_result"
    }
   ],
   "source": [
    "weight = [65.4, 59.2, 63.6, 88.4, 68.7]\n",
    "weight"
   ]
  },
  {
   "cell_type": "code",
   "execution_count": 4,
   "metadata": {},
   "outputs": [
    {
     "ename": "TypeError",
     "evalue": "unsupported operand type(s) for ** or pow(): 'list' and 'int'",
     "output_type": "error",
     "traceback": [
      "\u001b[1;31m---------------------------------------------------------------------------\u001b[0m",
      "\u001b[1;31mTypeError\u001b[0m                                 Traceback (most recent call last)",
      "\u001b[1;32m<ipython-input-4-64e1de79fc19>\u001b[0m in \u001b[0;36m<module>\u001b[1;34m\u001b[0m\n\u001b[1;32m----> 1\u001b[1;33m \u001b[0mweight\u001b[0m\u001b[1;33m/\u001b[0m\u001b[0mheight\u001b[0m \u001b[1;33m**\u001b[0m \u001b[1;36m2\u001b[0m\u001b[1;33m\u001b[0m\u001b[1;33m\u001b[0m\u001b[0m\n\u001b[0m",
      "\u001b[1;31mTypeError\u001b[0m: unsupported operand type(s) for ** or pow(): 'list' and 'int'"
     ]
    }
   ],
   "source": [
    "weight/height ** 2"
   ]
  },
  {
   "cell_type": "code",
   "execution_count": 6,
   "metadata": {},
   "outputs": [
    {
     "data": {
      "text/plain": [
       "array([1.73, 1.68, 1.71, 1.89, 1.79])"
      ]
     },
     "execution_count": 6,
     "metadata": {},
     "output_type": "execute_result"
    }
   ],
   "source": [
    "np_height = np.array(height)\n",
    "np_height"
   ]
  },
  {
   "cell_type": "code",
   "execution_count": 7,
   "metadata": {},
   "outputs": [
    {
     "data": {
      "text/plain": [
       "array([65.4, 59.2, 63.6, 88.4, 68.7])"
      ]
     },
     "execution_count": 7,
     "metadata": {},
     "output_type": "execute_result"
    }
   ],
   "source": [
    "np_weight = np.array(weight)\n",
    "np_weight"
   ]
  },
  {
   "cell_type": "code",
   "execution_count": 8,
   "metadata": {},
   "outputs": [
    {
     "data": {
      "text/plain": [
       "array([21.85171573, 20.97505669, 21.75028214, 24.7473475 , 21.44127836])"
      ]
     },
     "execution_count": 8,
     "metadata": {},
     "output_type": "execute_result"
    }
   ],
   "source": [
    "bmi = np_weight/np_height**2\n",
    "bmi"
   ]
  },
  {
   "cell_type": "code",
   "execution_count": 9,
   "metadata": {},
   "outputs": [
    {
     "data": {
      "text/plain": [
       "array([2, 1])"
      ]
     },
     "execution_count": 9,
     "metadata": {},
     "output_type": "execute_result"
    }
   ],
   "source": [
    "list1 = [2, True]\n",
    "np_list1 = np.array(list1)\n",
    "np_list1"
   ]
  },
  {
   "cell_type": "code",
   "execution_count": 11,
   "metadata": {},
   "outputs": [
    {
     "data": {
      "text/plain": [
       "[1, 2, 3]"
      ]
     },
     "execution_count": 11,
     "metadata": {},
     "output_type": "execute_result"
    }
   ],
   "source": [
    "list2 = [1,2,3]\n",
    "numpy_array = np.array(list2)\n",
    "list2"
   ]
  },
  {
   "cell_type": "code",
   "execution_count": 12,
   "metadata": {},
   "outputs": [
    {
     "data": {
      "text/plain": [
       "[1, 2, 3, 1, 2, 3]"
      ]
     },
     "execution_count": 12,
     "metadata": {},
     "output_type": "execute_result"
    }
   ],
   "source": [
    "list2 + list2"
   ]
  },
  {
   "cell_type": "code",
   "execution_count": 13,
   "metadata": {},
   "outputs": [
    {
     "data": {
      "text/plain": [
       "array([2, 4, 6])"
      ]
     },
     "execution_count": 13,
     "metadata": {},
     "output_type": "execute_result"
    }
   ],
   "source": [
    "numpy_array + numpy_array"
   ]
  },
  {
   "cell_type": "code",
   "execution_count": 14,
   "metadata": {},
   "outputs": [
    {
     "data": {
      "text/plain": [
       "array([21.85171573, 20.97505669, 21.75028214, 24.7473475 , 21.44127836])"
      ]
     },
     "execution_count": 14,
     "metadata": {},
     "output_type": "execute_result"
    }
   ],
   "source": [
    "bmi"
   ]
  },
  {
   "cell_type": "code",
   "execution_count": 15,
   "metadata": {},
   "outputs": [
    {
     "data": {
      "text/plain": [
       "20.97505668934241"
      ]
     },
     "execution_count": 15,
     "metadata": {},
     "output_type": "execute_result"
    }
   ],
   "source": [
    "bmi[1]"
   ]
  },
  {
   "cell_type": "code",
   "execution_count": 16,
   "metadata": {},
   "outputs": [
    {
     "data": {
      "text/plain": [
       "array([False, False, False,  True, False])"
      ]
     },
     "execution_count": 16,
     "metadata": {},
     "output_type": "execute_result"
    }
   ],
   "source": [
    "bmi > 23"
   ]
  },
  {
   "cell_type": "code",
   "execution_count": 17,
   "metadata": {},
   "outputs": [
    {
     "data": {
      "text/plain": [
       "array([24.7473475])"
      ]
     },
     "execution_count": 17,
     "metadata": {},
     "output_type": "execute_result"
    }
   ],
   "source": [
    "bmi[bmi > 23]"
   ]
  },
  {
   "cell_type": "code",
   "execution_count": 18,
   "metadata": {},
   "outputs": [],
   "source": [
    "baseball = [180, 215, 210, 210, 188, 176, 209, 200]"
   ]
  },
  {
   "cell_type": "code",
   "execution_count": 19,
   "metadata": {},
   "outputs": [
    {
     "data": {
      "text/plain": [
       "array([180, 215, 210, 210, 188, 176, 209, 200])"
      ]
     },
     "execution_count": 19,
     "metadata": {},
     "output_type": "execute_result"
    }
   ],
   "source": [
    "np_baseball = np.array(baseball)\n",
    "np_baseball"
   ]
  },
  {
   "cell_type": "code",
   "execution_count": 20,
   "metadata": {},
   "outputs": [
    {
     "data": {
      "text/plain": [
       "numpy.ndarray"
      ]
     },
     "execution_count": 20,
     "metadata": {},
     "output_type": "execute_result"
    }
   ],
   "source": [
    "type(np_baseball)"
   ]
  },
  {
   "cell_type": "code",
   "execution_count": 21,
   "metadata": {},
   "outputs": [
    {
     "data": {
      "text/plain": [
       "array([0.43942, 0.42672, 0.43434, 0.48006, 0.45466])"
      ]
     },
     "execution_count": 21,
     "metadata": {},
     "output_type": "execute_result"
    }
   ],
   "source": [
    "np_height_m = 0.254 * np_height\n",
    "np_height_m"
   ]
  },
  {
   "cell_type": "code",
   "execution_count": 22,
   "metadata": {},
   "outputs": [
    {
     "data": {
      "text/plain": [
       "array([29.6649168, 26.8526464, 28.8484512, 40.0975328, 31.1617704])"
      ]
     },
     "execution_count": 22,
     "metadata": {},
     "output_type": "execute_result"
    }
   ],
   "source": [
    "np_weight_kg = 0.453592 * np_weight\n",
    "np_weight_kg"
   ]
  },
  {
   "cell_type": "code",
   "execution_count": 23,
   "metadata": {},
   "outputs": [
    {
     "data": {
      "text/plain": [
       "array([153.63264059, 147.4691226 , 152.91949246, 173.9909301 ,\n",
       "       150.74698268])"
      ]
     },
     "execution_count": 23,
     "metadata": {},
     "output_type": "execute_result"
    }
   ],
   "source": [
    "bmi2 = np_weight_kg/np_height_m ** 2\n",
    "bmi2"
   ]
  },
  {
   "cell_type": "code",
   "execution_count": 26,
   "metadata": {},
   "outputs": [
    {
     "data": {
      "text/plain": [
       "array([False,  True, False, False, False])"
      ]
     },
     "execution_count": 26,
     "metadata": {},
     "output_type": "execute_result"
    }
   ],
   "source": [
    "light = bmi2 < 150\n",
    "light"
   ]
  },
  {
   "cell_type": "code",
   "execution_count": 27,
   "metadata": {},
   "outputs": [
    {
     "data": {
      "text/plain": [
       "array([147.4691226])"
      ]
     },
     "execution_count": 27,
     "metadata": {},
     "output_type": "execute_result"
    }
   ],
   "source": [
    "bmi2[light]"
   ]
  },
  {
   "cell_type": "code",
   "execution_count": 29,
   "metadata": {},
   "outputs": [
    {
     "data": {
      "text/plain": [
       "array([4, 5, 2])"
      ]
     },
     "execution_count": 29,
     "metadata": {},
     "output_type": "execute_result"
    }
   ],
   "source": [
    "np.array([True, 1, 2]) + np.array([3, 4, False])"
   ]
  },
  {
   "cell_type": "code",
   "execution_count": 30,
   "metadata": {},
   "outputs": [
    {
     "data": {
      "text/plain": [
       "array([153.63264059, 147.4691226 , 152.91949246, 173.9909301 ,\n",
       "       150.74698268])"
      ]
     },
     "execution_count": 30,
     "metadata": {},
     "output_type": "execute_result"
    }
   ],
   "source": [
    "bmi2[:]"
   ]
  },
  {
   "cell_type": "code",
   "execution_count": 31,
   "metadata": {},
   "outputs": [],
   "source": [
    " np_2d = np.array([[1.73, 1.68, 1.71, 1.89, 1.79],\n",
    "                   [65.4, 59.2, 63.6, 88.4, 68.7]]) "
   ]
  },
  {
   "cell_type": "code",
   "execution_count": 32,
   "metadata": {},
   "outputs": [
    {
     "data": {
      "text/plain": [
       "array([[ 1.73,  1.68,  1.71,  1.89,  1.79],\n",
       "       [65.4 , 59.2 , 63.6 , 88.4 , 68.7 ]])"
      ]
     },
     "execution_count": 32,
     "metadata": {},
     "output_type": "execute_result"
    }
   ],
   "source": [
    "np_2d"
   ]
  },
  {
   "cell_type": "code",
   "execution_count": 33,
   "metadata": {},
   "outputs": [
    {
     "data": {
      "text/plain": [
       "(2, 5)"
      ]
     },
     "execution_count": 33,
     "metadata": {},
     "output_type": "execute_result"
    }
   ],
   "source": [
    "np_2d.shape"
   ]
  },
  {
   "cell_type": "code",
   "execution_count": 34,
   "metadata": {},
   "outputs": [
    {
     "data": {
      "text/plain": [
       "array([['1.73', '1.68', '1.71', '1.89', '1.79'],\n",
       "       ['65.4', '59.2', '63.6', '88.4', '68.7']], dtype='<U32')"
      ]
     },
     "execution_count": 34,
     "metadata": {},
     "output_type": "execute_result"
    }
   ],
   "source": [
    " np.array([[1.73, 1.68, 1.71, 1.89, 1.79], \n",
    "           [65.4, 59.2, 63.6, 88.4, \"68.7\"]]) "
   ]
  },
  {
   "cell_type": "code",
   "execution_count": 35,
   "metadata": {},
   "outputs": [
    {
     "data": {
      "text/plain": [
       "array([1.73, 1.68, 1.71, 1.89, 1.79])"
      ]
     },
     "execution_count": 35,
     "metadata": {},
     "output_type": "execute_result"
    }
   ],
   "source": [
    "np_2d[0]"
   ]
  },
  {
   "cell_type": "code",
   "execution_count": 36,
   "metadata": {},
   "outputs": [
    {
     "data": {
      "text/plain": [
       "1.71"
      ]
     },
     "execution_count": 36,
     "metadata": {},
     "output_type": "execute_result"
    }
   ],
   "source": [
    "np_2d[0][2]"
   ]
  },
  {
   "cell_type": "code",
   "execution_count": 37,
   "metadata": {},
   "outputs": [
    {
     "data": {
      "text/plain": [
       "1.71"
      ]
     },
     "execution_count": 37,
     "metadata": {},
     "output_type": "execute_result"
    }
   ],
   "source": [
    "np_2d[0, 2]"
   ]
  },
  {
   "cell_type": "code",
   "execution_count": 38,
   "metadata": {},
   "outputs": [
    {
     "data": {
      "text/plain": [
       "array([[ 1.68,  1.71],\n",
       "       [59.2 , 63.6 ]])"
      ]
     },
     "execution_count": 38,
     "metadata": {},
     "output_type": "execute_result"
    }
   ],
   "source": [
    "np_2d[:, 1:3]"
   ]
  },
  {
   "cell_type": "code",
   "execution_count": 39,
   "metadata": {},
   "outputs": [],
   "source": [
    "baseball2 = [[180, 78.4],\n",
    "            [215, 102.7],\n",
    "            [210, 98.5],\n",
    "            [188, 75.2]]"
   ]
  },
  {
   "cell_type": "code",
   "execution_count": 40,
   "metadata": {},
   "outputs": [
    {
     "data": {
      "text/plain": [
       "array([[180. ,  78.4],\n",
       "       [215. , 102.7],\n",
       "       [210. ,  98.5],\n",
       "       [188. ,  75.2]])"
      ]
     },
     "execution_count": 40,
     "metadata": {},
     "output_type": "execute_result"
    }
   ],
   "source": [
    "np_baseball2 = np.array(baseball2)\n",
    "np_baseball2"
   ]
  },
  {
   "cell_type": "code",
   "execution_count": 41,
   "metadata": {},
   "outputs": [
    {
     "data": {
      "text/plain": [
       "numpy.ndarray"
      ]
     },
     "execution_count": 41,
     "metadata": {},
     "output_type": "execute_result"
    }
   ],
   "source": [
    "type(np_baseball2)"
   ]
  },
  {
   "cell_type": "code",
   "execution_count": 42,
   "metadata": {},
   "outputs": [
    {
     "data": {
      "text/plain": [
       "(4, 2)"
      ]
     },
     "execution_count": 42,
     "metadata": {},
     "output_type": "execute_result"
    }
   ],
   "source": [
    "np_baseball2.shape"
   ]
  },
  {
   "cell_type": "code",
   "execution_count": 43,
   "metadata": {},
   "outputs": [
    {
     "data": {
      "text/plain": [
       "array([ 0,  1,  2,  3,  4,  5,  6,  7,  8,  9, 10, 11, 12, 13, 14])"
      ]
     },
     "execution_count": 43,
     "metadata": {},
     "output_type": "execute_result"
    }
   ],
   "source": [
    "arr = np.arange(15)\n",
    "arr"
   ]
  },
  {
   "cell_type": "code",
   "execution_count": 44,
   "metadata": {},
   "outputs": [
    {
     "data": {
      "text/plain": [
       "array([0.        , 1.        , 1.41421356, 1.73205081, 2.        ,\n",
       "       2.23606798, 2.44948974, 2.64575131, 2.82842712, 3.        ,\n",
       "       3.16227766, 3.31662479, 3.46410162, 3.60555128, 3.74165739])"
      ]
     },
     "execution_count": 44,
     "metadata": {},
     "output_type": "execute_result"
    }
   ],
   "source": [
    "arr1 = np.sqrt(arr)\n",
    "arr1"
   ]
  },
  {
   "cell_type": "code",
   "execution_count": 45,
   "metadata": {},
   "outputs": [
    {
     "data": {
      "text/plain": [
       "array([  0,   1,   4,   9,  16,  25,  36,  49,  64,  81, 100, 121, 144,\n",
       "       169, 196], dtype=int32)"
      ]
     },
     "execution_count": 45,
     "metadata": {},
     "output_type": "execute_result"
    }
   ],
   "source": [
    "np.square(arr)"
   ]
  },
  {
   "cell_type": "code",
   "execution_count": 46,
   "metadata": {},
   "outputs": [
    {
     "data": {
      "text/plain": [
       "array([ 1.        ,  2.71828183,  4.11325038,  5.65223367,  7.3890561 ,\n",
       "        9.35646902, 11.58243519, 14.09403011, 16.91882868, 20.08553692,\n",
       "       23.62434292, 27.56714845, 31.94774551, 36.80196629, 42.16782067])"
      ]
     },
     "execution_count": 46,
     "metadata": {},
     "output_type": "execute_result"
    }
   ],
   "source": [
    "np.exp(arr1)"
   ]
  },
  {
   "cell_type": "code",
   "execution_count": 47,
   "metadata": {},
   "outputs": [
    {
     "name": "stderr",
     "output_type": "stream",
     "text": [
      "C:\\intelpython3\\lib\\site-packages\\ipykernel_launcher.py:1: RuntimeWarning: divide by zero encountered in log\n",
      "  \"\"\"Entry point for launching an IPython kernel.\n"
     ]
    },
    {
     "data": {
      "text/plain": [
       "array([      -inf, 0.        , 0.34657359, 0.54930614, 0.69314718,\n",
       "       0.80471896, 0.89587973, 0.97295507, 1.03972077, 1.09861229,\n",
       "       1.15129255, 1.19894764, 1.24245332, 1.28247468, 1.31952866])"
      ]
     },
     "execution_count": 47,
     "metadata": {},
     "output_type": "execute_result"
    }
   ],
   "source": [
    "np.log(arr1[:])"
   ]
  },
  {
   "cell_type": "code",
   "execution_count": 48,
   "metadata": {},
   "outputs": [],
   "source": [
    "a = [5, 4, 9]\n",
    "b = [3, 6, 8]"
   ]
  },
  {
   "cell_type": "code",
   "execution_count": 49,
   "metadata": {},
   "outputs": [
    {
     "data": {
      "text/plain": [
       "array([ 8, 10, 17])"
      ]
     },
     "execution_count": 49,
     "metadata": {},
     "output_type": "execute_result"
    }
   ],
   "source": [
    "np.add(a, b)"
   ]
  },
  {
   "cell_type": "code",
   "execution_count": 50,
   "metadata": {},
   "outputs": [
    {
     "data": {
      "text/plain": [
       "array([ 2, -2,  1])"
      ]
     },
     "execution_count": 50,
     "metadata": {},
     "output_type": "execute_result"
    }
   ],
   "source": [
    "np.subtract(a, b)"
   ]
  },
  {
   "cell_type": "code",
   "execution_count": 51,
   "metadata": {},
   "outputs": [
    {
     "data": {
      "text/plain": [
       "array([15, 24, 72])"
      ]
     },
     "execution_count": 51,
     "metadata": {},
     "output_type": "execute_result"
    }
   ],
   "source": [
    "np.multiply(a, b)"
   ]
  },
  {
   "cell_type": "code",
   "execution_count": 52,
   "metadata": {},
   "outputs": [
    {
     "data": {
      "text/plain": [
       "array([1.66666667, 0.66666667, 1.125     ])"
      ]
     },
     "execution_count": 52,
     "metadata": {},
     "output_type": "execute_result"
    }
   ],
   "source": [
    "np.divide(a, b)"
   ]
  },
  {
   "cell_type": "code",
   "execution_count": 53,
   "metadata": {},
   "outputs": [
    {
     "data": {
      "text/plain": [
       "array([5, 6, 9])"
      ]
     },
     "execution_count": 53,
     "metadata": {},
     "output_type": "execute_result"
    }
   ],
   "source": [
    "np.fmax(a,b)"
   ]
  },
  {
   "cell_type": "code",
   "execution_count": 54,
   "metadata": {},
   "outputs": [
    {
     "data": {
      "text/plain": [
       "array([ True, False,  True])"
      ]
     },
     "execution_count": 54,
     "metadata": {},
     "output_type": "execute_result"
    }
   ],
   "source": [
    "np.greater(a, b)"
   ]
  },
  {
   "cell_type": "code",
   "execution_count": 55,
   "metadata": {},
   "outputs": [
    {
     "data": {
      "text/plain": [
       "array([[0., 0., 0.],\n",
       "       [0., 0., 0.]])"
      ]
     },
     "execution_count": 55,
     "metadata": {},
     "output_type": "execute_result"
    }
   ],
   "source": [
    "np.zeros([2,3])"
   ]
  },
  {
   "cell_type": "code",
   "execution_count": 56,
   "metadata": {},
   "outputs": [
    {
     "data": {
      "text/plain": [
       "1.7600000000000002"
      ]
     },
     "execution_count": 56,
     "metadata": {},
     "output_type": "execute_result"
    }
   ],
   "source": [
    "np.mean(np_height)"
   ]
  },
  {
   "cell_type": "code",
   "execution_count": 57,
   "metadata": {},
   "outputs": [
    {
     "data": {
      "text/plain": [
       "1.73"
      ]
     },
     "execution_count": 57,
     "metadata": {},
     "output_type": "execute_result"
    }
   ],
   "source": [
    "np.median(np_height)"
   ]
  },
  {
   "cell_type": "code",
   "execution_count": 58,
   "metadata": {},
   "outputs": [
    {
     "data": {
      "text/plain": [
       "0.07429670248402682"
      ]
     },
     "execution_count": 58,
     "metadata": {},
     "output_type": "execute_result"
    }
   ],
   "source": [
    "np.std(np_height)"
   ]
  },
  {
   "cell_type": "code",
   "execution_count": 59,
   "metadata": {},
   "outputs": [
    {
     "data": {
      "text/plain": [
       "1.0"
      ]
     },
     "execution_count": 59,
     "metadata": {},
     "output_type": "execute_result"
    }
   ],
   "source": [
    "np.corrcoef(np_height)"
   ]
  },
  {
   "cell_type": "code",
   "execution_count": 60,
   "metadata": {},
   "outputs": [
    {
     "data": {
      "text/plain": [
       "\u001b[1;31mType:\u001b[0m        module\n",
       "\u001b[1;31mString form:\u001b[0m <module 'numpy' from 'C:\\\\intelpython3\\\\lib\\\\site-packages\\\\numpy\\\\__init__.py'>\n",
       "\u001b[1;31mFile:\u001b[0m        c:\\intelpython3\\lib\\site-packages\\numpy\\__init__.py\n",
       "\u001b[1;31mDocstring:\u001b[0m  \n",
       "NumPy\n",
       "=====\n",
       "\n",
       "Provides\n",
       "  1. An array object of arbitrary homogeneous items\n",
       "  2. Fast mathematical operations over arrays\n",
       "  3. Linear Algebra, Fourier Transforms, Random Number Generation\n",
       "\n",
       "How to use the documentation\n",
       "----------------------------\n",
       "Documentation is available in two forms: docstrings provided\n",
       "with the code, and a loose standing reference guide, available from\n",
       "`the NumPy homepage <https://www.scipy.org>`_.\n",
       "\n",
       "We recommend exploring the docstrings using\n",
       "`IPython <https://ipython.org>`_, an advanced Python shell with\n",
       "TAB-completion and introspection capabilities.  See below for further\n",
       "instructions.\n",
       "\n",
       "The docstring examples assume that `numpy` has been imported as `np`::\n",
       "\n",
       "  >>> import numpy as np\n",
       "\n",
       "Code snippets are indicated by three greater-than signs::\n",
       "\n",
       "  >>> x = 42\n",
       "  >>> x = x + 1\n",
       "\n",
       "Use the built-in ``help`` function to view a function's docstring::\n",
       "\n",
       "  >>> help(np.sort)\n",
       "  ... # doctest: +SKIP\n",
       "\n",
       "For some objects, ``np.info(obj)`` may provide additional help.  This is\n",
       "particularly true if you see the line \"Help on ufunc object:\" at the top\n",
       "of the help() page.  Ufuncs are implemented in C, not Python, for speed.\n",
       "The native Python help() does not know how to view their help, but our\n",
       "np.info() function does.\n",
       "\n",
       "To search for documents containing a keyword, do::\n",
       "\n",
       "  >>> np.lookfor('keyword')\n",
       "  ... # doctest: +SKIP\n",
       "\n",
       "General-purpose documents like a glossary and help on the basic concepts\n",
       "of numpy are available under the ``doc`` sub-module::\n",
       "\n",
       "  >>> from numpy import doc\n",
       "  >>> help(doc)\n",
       "  ... # doctest: +SKIP\n",
       "\n",
       "Available subpackages\n",
       "---------------------\n",
       "doc\n",
       "    Topical documentation on broadcasting, indexing, etc.\n",
       "lib\n",
       "    Basic functions used by several sub-packages.\n",
       "random\n",
       "    Core Random Tools\n",
       "linalg\n",
       "    Core Linear Algebra Tools\n",
       "fft\n",
       "    Core FFT routines\n",
       "polynomial\n",
       "    Polynomial tools\n",
       "testing\n",
       "    NumPy testing tools\n",
       "f2py\n",
       "    Fortran to Python Interface Generator.\n",
       "distutils\n",
       "    Enhancements to distutils with support for\n",
       "    Fortran compilers support and more.\n",
       "\n",
       "Utilities\n",
       "---------\n",
       "test\n",
       "    Run numpy unittests\n",
       "show_config\n",
       "    Show numpy build configuration\n",
       "dual\n",
       "    Overwrite certain functions with high-performance Scipy tools\n",
       "matlib\n",
       "    Make everything matrices.\n",
       "__version__\n",
       "    NumPy version string\n",
       "\n",
       "Viewing documentation using IPython\n",
       "-----------------------------------\n",
       "Start IPython with the NumPy profile (``ipython -p numpy``), which will\n",
       "import `numpy` under the alias `np`.  Then, use the ``cpaste`` command to\n",
       "paste examples into the shell.  To see which functions are available in\n",
       "`numpy`, type ``np.<TAB>`` (where ``<TAB>`` refers to the TAB key), or use\n",
       "``np.*cos*?<ENTER>`` (where ``<ENTER>`` refers to the ENTER key) to narrow\n",
       "down the list.  To view the docstring for a function, use\n",
       "``np.cos?<ENTER>`` (to view the docstring) and ``np.cos??<ENTER>`` (to view\n",
       "the source code).\n",
       "\n",
       "Copies vs. in-place operation\n",
       "-----------------------------\n",
       "Most of the functions in `numpy` return a copy of the array argument\n",
       "(e.g., `np.sort`).  In-place versions of these functions are often\n",
       "available as array methods, i.e. ``x = np.array([1,2,3]); x.sort()``.\n",
       "Exceptions to this rule are documented.\n"
      ]
     },
     "metadata": {},
     "output_type": "display_data"
    }
   ],
   "source": [
    "np?"
   ]
  },
  {
   "cell_type": "code",
   "execution_count": 61,
   "metadata": {},
   "outputs": [
    {
     "data": {
      "text/plain": [
       "np.ALLOW_THREADS\n",
       "np.AxisError\n",
       "np.BUFSIZE\n",
       "np.CLIP\n",
       "np.ComplexWarning\n",
       "np.DataSource\n",
       "np.ERR_CALL\n",
       "np.ERR_DEFAULT\n",
       "np.ERR_IGNORE\n",
       "np.ERR_LOG\n",
       "np.ERR_PRINT\n",
       "np.ERR_RAISE\n",
       "np.ERR_WARN\n",
       "np.FLOATING_POINT_SUPPORT\n",
       "np.FPE_DIVIDEBYZERO\n",
       "np.FPE_INVALID\n",
       "np.FPE_OVERFLOW\n",
       "np.FPE_UNDERFLOW\n",
       "np.False_\n",
       "np.Inf\n",
       "np.Infinity\n",
       "np.MAXDIMS\n",
       "np.MAY_SHARE_BOUNDS\n",
       "np.MAY_SHARE_EXACT\n",
       "np.MachAr\n",
       "np.ModuleDeprecationWarning\n",
       "np.NAN\n",
       "np.NINF\n",
       "np.NZERO\n",
       "np.NaN\n",
       "np.PINF\n",
       "np.PZERO\n",
       "np.RAISE\n",
       "np.RankWarning\n",
       "np.SHIFT_DIVIDEBYZERO\n",
       "np.SHIFT_INVALID\n",
       "np.SHIFT_OVERFLOW\n",
       "np.SHIFT_UNDERFLOW\n",
       "np.ScalarType\n",
       "np.Tester\n",
       "np.TooHardError\n",
       "np.True_\n",
       "np.UFUNC_BUFSIZE_DEFAULT\n",
       "np.UFUNC_PYVALS_NAME\n",
       "np.VisibleDeprecationWarning\n",
       "np.WRAP\n",
       "np.__NUMPY_SETUP__\n",
       "np.__all__\n",
       "np.__builtins__\n",
       "np.__cached__\n",
       "np.__class__\n",
       "np.__config__\n",
       "np.__delattr__\n",
       "np.__dict__\n",
       "np.__dir__\n",
       "np.__doc__\n",
       "np.__eq__\n",
       "np.__file__\n",
       "np.__format__\n",
       "np.__ge__\n",
       "np.__getattribute__\n",
       "np.__git_revision__\n",
       "np.__gt__\n",
       "np.__hash__\n",
       "np.__init__\n",
       "np.__init_subclass__\n",
       "np.__le__\n",
       "np.__loader__\n",
       "np.__lt__\n",
       "np.__name__\n",
       "np.__ne__\n",
       "np.__new__\n",
       "np.__package__\n",
       "np.__path__\n",
       "np.__reduce__\n",
       "np.__reduce_ex__\n",
       "np.__repr__\n",
       "np.__setattr__\n",
       "np.__sizeof__\n",
       "np.__spec__\n",
       "np.__str__\n",
       "np.__subclasshook__\n",
       "np.__version__\n",
       "np.abs\n",
       "np.absolute\n",
       "np.absolute_import\n",
       "np.add\n",
       "np.add_docstring\n",
       "np.add_newdoc\n",
       "np.add_newdoc_ufunc\n",
       "np.alen\n",
       "np.all\n",
       "np.allclose\n",
       "np.alltrue\n",
       "np.amax\n",
       "np.amin\n",
       "np.angle\n",
       "np.any\n",
       "np.append\n",
       "np.apply_along_axis\n",
       "np.apply_over_axes\n",
       "np.arange\n",
       "np.arccos\n",
       "np.arccosh\n",
       "np.arcsin\n",
       "np.arcsinh\n",
       "np.arctan\n",
       "np.arctan2\n",
       "np.arctanh\n",
       "np.argmax\n",
       "np.argmin\n",
       "np.argpartition\n",
       "np.argsort\n",
       "np.argwhere\n",
       "np.around\n",
       "np.array\n",
       "np.array2string\n",
       "np.array_equal\n",
       "np.array_equiv\n",
       "np.array_repr\n",
       "np.array_split\n",
       "np.array_str\n",
       "np.asanyarray\n",
       "np.asarray\n",
       "np.asarray_chkfinite\n",
       "np.ascontiguousarray\n",
       "np.asfarray\n",
       "np.asfortranarray\n",
       "np.asmatrix\n",
       "np.asscalar\n",
       "np.atleast_1d\n",
       "np.atleast_2d\n",
       "np.atleast_3d\n",
       "np.average\n",
       "np.bartlett\n",
       "np.base_repr\n",
       "np.binary_repr\n",
       "np.bincount\n",
       "np.bitwise_and\n",
       "np.bitwise_not\n",
       "np.bitwise_or\n",
       "np.bitwise_xor\n",
       "np.blackman\n",
       "np.block\n",
       "np.bmat\n",
       "np.bool\n",
       "np.bool8\n",
       "np.bool_\n",
       "np.broadcast\n",
       "np.broadcast_arrays\n",
       "np.broadcast_to\n",
       "np.busday_count\n",
       "np.busday_offset\n",
       "np.busdaycalendar\n",
       "np.byte\n",
       "np.byte_bounds\n",
       "np.bytes0\n",
       "np.bytes_\n",
       "np.c_\n",
       "np.can_cast\n",
       "np.cast\n",
       "np.cbrt\n",
       "np.cdouble\n",
       "np.ceil\n",
       "np.cfloat\n",
       "np.char\n",
       "np.character\n",
       "np.chararray\n",
       "np.choose\n",
       "np.clip\n",
       "np.clongdouble\n",
       "np.clongfloat\n",
       "np.column_stack\n",
       "np.common_type\n",
       "np.compare_chararrays\n",
       "np.compat\n",
       "np.complex\n",
       "np.complex128\n",
       "np.complex64\n",
       "np.complex_\n",
       "np.complexfloating\n",
       "np.compress\n",
       "np.concatenate\n",
       "np.conj\n",
       "np.conjugate\n",
       "np.convolve\n",
       "np.copy\n",
       "np.copysign\n",
       "np.copyto\n",
       "np.core\n",
       "np.corrcoef\n",
       "np.correlate\n",
       "np.cos\n",
       "np.cosh\n",
       "np.count_nonzero\n",
       "np.cov\n",
       "np.cross\n",
       "np.csingle\n",
       "np.ctypeslib\n",
       "np.cumprod\n",
       "np.cumproduct\n",
       "np.cumsum\n",
       "np.datetime64\n",
       "np.datetime_as_string\n",
       "np.datetime_data\n",
       "np.deg2rad\n",
       "np.degrees\n",
       "np.delete\n",
       "np.deprecate\n",
       "np.deprecate_with_doc\n",
       "np.diag\n",
       "np.diag_indices\n",
       "np.diag_indices_from\n",
       "np.diagflat\n",
       "np.diagonal\n",
       "np.diff\n",
       "np.digitize\n",
       "np.disp\n",
       "np.divide\n",
       "np.division\n",
       "np.divmod\n",
       "np.dot\n",
       "np.double\n",
       "np.dsplit\n",
       "np.dstack\n",
       "np.dtype\n",
       "np.e\n",
       "np.ediff1d\n",
       "np.einsum\n",
       "np.einsum_path\n",
       "np.emath\n",
       "np.empty\n",
       "np.empty_like\n",
       "np.equal\n",
       "np.errstate\n",
       "np.euler_gamma\n",
       "np.exp\n",
       "np.exp2\n",
       "np.expand_dims\n",
       "np.expm1\n",
       "np.extract\n",
       "np.eye\n",
       "np.fabs\n",
       "np.fastCopyAndTranspose\n",
       "np.fft\n",
       "np.fill_diagonal\n",
       "np.find_common_type\n",
       "np.finfo\n",
       "np.fix\n",
       "np.flatiter\n",
       "np.flatnonzero\n",
       "np.flexible\n",
       "np.flip\n",
       "np.fliplr\n",
       "np.flipud\n",
       "np.float\n",
       "np.float16\n",
       "np.float32\n",
       "np.float64\n",
       "np.float_\n",
       "np.float_power\n",
       "np.floating\n",
       "np.floor\n",
       "np.floor_divide\n",
       "np.fmax\n",
       "np.fmin\n",
       "np.fmod\n",
       "np.format_float_positional\n",
       "np.format_float_scientific\n",
       "np.format_parser\n",
       "np.frexp\n",
       "np.frombuffer\n",
       "np.fromfile\n",
       "np.fromfunction\n",
       "np.fromiter\n",
       "np.frompyfunc\n",
       "np.fromregex\n",
       "np.fromstring\n",
       "np.full\n",
       "np.full_like\n",
       "np.fv\n",
       "np.gcd\n",
       "np.generic\n",
       "np.genfromtxt\n",
       "np.geomspace\n",
       "np.get_array_wrap\n",
       "np.get_include\n",
       "np.get_printoptions\n",
       "np.getbufsize\n",
       "np.geterr\n",
       "np.geterrcall\n",
       "np.geterrobj\n",
       "np.gradient\n",
       "np.greater\n",
       "np.greater_equal\n",
       "np.half\n",
       "np.hamming\n",
       "np.hanning\n",
       "np.heaviside\n",
       "np.histogram\n",
       "np.histogram2d\n",
       "np.histogram_bin_edges\n",
       "np.histogramdd\n",
       "np.hsplit\n",
       "np.hstack\n",
       "np.hypot\n",
       "np.i0\n",
       "np.identity\n",
       "np.iinfo\n",
       "np.imag\n",
       "np.in1d\n",
       "np.index_exp\n",
       "np.indices\n",
       "np.inexact\n",
       "np.inf\n",
       "np.info\n",
       "np.infty\n",
       "np.inner\n",
       "np.insert\n",
       "np.int\n",
       "np.int0\n",
       "np.int16\n",
       "np.int32\n",
       "np.int64\n",
       "np.int8\n",
       "np.int_\n",
       "np.int_asbuffer\n",
       "np.intc\n",
       "np.integer\n",
       "np.interp\n",
       "np.intersect1d\n",
       "np.intp\n",
       "np.invert\n",
       "np.ipmt\n",
       "np.irr\n",
       "np.is_busday\n",
       "np.isclose\n",
       "np.iscomplex\n",
       "np.iscomplexobj\n",
       "np.isfinite\n",
       "np.isfortran\n",
       "np.isin\n",
       "np.isinf\n",
       "np.isnan\n",
       "np.isnat\n",
       "np.isneginf\n",
       "np.isposinf\n",
       "np.isreal\n",
       "np.isrealobj\n",
       "np.isscalar\n",
       "np.issctype\n",
       "np.issubclass_\n",
       "np.issubdtype\n",
       "np.issubsctype\n",
       "np.iterable\n",
       "np.ix_\n",
       "np.kaiser\n",
       "np.kron\n",
       "np.lcm\n",
       "np.ldexp\n",
       "np.left_shift\n",
       "np.less\n",
       "np.less_equal\n",
       "np.lexsort\n",
       "np.lib\n",
       "np.linalg\n",
       "np.linspace\n",
       "np.little_endian\n",
       "np.load\n",
       "np.loads\n",
       "np.loadtxt\n",
       "np.log\n",
       "np.log10\n",
       "np.log1p\n",
       "np.log2\n",
       "np.logaddexp\n",
       "np.logaddexp2\n",
       "np.logical_and\n",
       "np.logical_not\n",
       "np.logical_or\n",
       "np.logical_xor\n",
       "np.logspace\n",
       "np.long\n",
       "np.longcomplex\n",
       "np.longdouble\n",
       "np.longfloat\n",
       "np.longlong\n",
       "np.lookfor\n",
       "np.ma\n",
       "np.mafromtxt\n",
       "np.mask_indices\n",
       "np.mat\n",
       "np.math\n",
       "np.matmul\n",
       "np.matrix\n",
       "np.matrixlib\n",
       "np.max\n",
       "np.maximum\n",
       "np.maximum_sctype\n",
       "np.may_share_memory\n",
       "np.mean\n",
       "np.median\n",
       "np.memmap\n",
       "np.meshgrid\n",
       "np.mgrid\n",
       "np.min\n",
       "np.min_scalar_type\n",
       "np.minimum\n",
       "np.mintypecode\n",
       "np.mirr\n",
       "np.mod\n",
       "np.modf\n",
       "np.moveaxis\n",
       "np.msort\n",
       "np.multiply\n",
       "np.nan\n",
       "np.nan_to_num\n",
       "np.nanargmax\n",
       "np.nanargmin\n",
       "np.nancumprod\n",
       "np.nancumsum\n",
       "np.nanmax\n",
       "np.nanmean\n",
       "np.nanmedian\n",
       "np.nanmin\n",
       "np.nanpercentile\n",
       "np.nanprod\n",
       "np.nanquantile\n",
       "np.nanstd\n",
       "np.nansum\n",
       "np.nanvar\n",
       "np.nbytes\n",
       "np.ndarray\n",
       "np.ndenumerate\n",
       "np.ndfromtxt\n",
       "np.ndim\n",
       "np.ndindex\n",
       "np.nditer\n",
       "np.negative\n",
       "np.nested_iters\n",
       "np.newaxis\n",
       "np.nextafter\n",
       "np.nonzero\n",
       "np.not_equal\n",
       "np.nper\n",
       "np.npv\n",
       "np.numarray\n",
       "np.number\n",
       "np.obj2sctype\n",
       "np.object\n",
       "np.object0\n",
       "np.object_\n",
       "np.ogrid\n",
       "np.oldnumeric\n",
       "np.ones\n",
       "np.ones_like\n",
       "np.outer\n",
       "np.packbits\n",
       "np.pad\n",
       "np.partition\n",
       "np.percentile\n",
       "np.pi\n",
       "np.piecewise\n",
       "np.place\n",
       "np.pmt\n",
       "np.poly\n",
       "np.poly1d\n",
       "np.polyadd\n",
       "np.polyder\n",
       "np.polydiv\n",
       "np.polyfit\n",
       "np.polyint\n",
       "np.polymul\n",
       "np.polynomial\n",
       "np.polysub\n",
       "np.polyval\n",
       "np.positive\n",
       "np.power\n",
       "np.ppmt\n",
       "np.print_function\n",
       "np.printoptions\n",
       "np.prod\n",
       "np.product\n",
       "np.promote_types\n",
       "np.ptp\n",
       "np.put\n",
       "np.put_along_axis\n",
       "np.putmask\n",
       "np.pv\n",
       "np.quantile\n",
       "np.r_\n",
       "np.rad2deg\n",
       "np.radians\n",
       "np.random\n",
       "np.rank\n",
       "np.rate\n",
       "np.ravel\n",
       "np.ravel_multi_index\n",
       "np.real\n",
       "np.real_if_close\n",
       "np.rec\n",
       "np.recarray\n",
       "np.recfromcsv\n",
       "np.recfromtxt\n",
       "np.reciprocal\n",
       "np.record\n",
       "np.remainder\n",
       "np.repeat\n",
       "np.require\n",
       "np.reshape\n",
       "np.resize\n",
       "np.result_type\n",
       "np.right_shift\n",
       "np.rint\n",
       "np.roll\n",
       "np.rollaxis\n",
       "np.roots\n",
       "np.rot90\n",
       "np.round\n",
       "np.round_\n",
       "np.row_stack\n",
       "np.s_\n",
       "np.safe_eval\n",
       "np.save\n",
       "np.savetxt\n",
       "np.savez\n",
       "np.savez_compressed\n",
       "np.sctype2char\n",
       "np.sctypeDict\n",
       "np.sctypeNA\n",
       "np.sctypes\n",
       "np.searchsorted\n",
       "np.select\n",
       "np.set_numeric_ops\n",
       "np.set_printoptions\n",
       "np.set_string_function\n",
       "np.setbufsize\n",
       "np.setdiff1d\n",
       "np.seterr\n",
       "np.seterrcall\n",
       "np.seterrobj\n",
       "np.setxor1d\n",
       "np.shape\n",
       "np.shares_memory\n",
       "np.short\n",
       "np.show_config\n",
       "np.sign\n",
       "np.signbit\n",
       "np.signedinteger\n",
       "np.sin\n",
       "np.sinc\n",
       "np.single\n",
       "np.singlecomplex\n",
       "np.sinh\n",
       "np.size\n",
       "np.sometrue\n",
       "np.sort\n",
       "np.sort_complex\n",
       "np.source\n",
       "np.spacing\n",
       "np.split\n",
       "np.sqrt\n",
       "np.square\n",
       "np.squeeze\n",
       "np.stack\n",
       "np.std\n",
       "np.str\n",
       "np.str0\n",
       "np.str_\n",
       "np.string_\n",
       "np.subtract\n",
       "np.sum\n",
       "np.swapaxes\n",
       "np.sys\n",
       "np.take\n",
       "np.take_along_axis\n",
       "np.tan\n",
       "np.tanh\n",
       "np.tensordot\n",
       "np.test\n",
       "np.testing\n",
       "np.tile\n",
       "np.timedelta64\n",
       "np.trace\n",
       "np.tracemalloc_domain\n",
       "np.transpose\n",
       "np.trapz\n",
       "np.tri\n",
       "np.tril\n",
       "np.tril_indices\n",
       "np.tril_indices_from\n",
       "np.trim_zeros\n",
       "np.triu\n",
       "np.triu_indices\n",
       "np.triu_indices_from\n",
       "np.true_divide\n",
       "np.trunc\n",
       "np.typeDict\n",
       "np.typeNA\n",
       "np.typecodes\n",
       "np.typename\n",
       "np.ubyte\n",
       "np.ufunc\n",
       "np.uint\n",
       "np.uint0\n",
       "np.uint16\n",
       "np.uint32\n",
       "np.uint64\n",
       "np.uint8\n",
       "np.uintc\n",
       "np.uintp\n",
       "np.ulonglong\n",
       "np.unicode\n",
       "np.unicode_\n",
       "np.union1d\n",
       "np.unique\n",
       "np.unpackbits\n",
       "np.unravel_index\n",
       "np.unsignedinteger\n",
       "np.unwrap\n",
       "np.ushort\n",
       "np.vander\n",
       "np.var\n",
       "np.vdot\n",
       "np.vectorize\n",
       "np.version\n",
       "np.void\n",
       "np.void0\n",
       "np.vsplit\n",
       "np.vstack\n",
       "np.warnings\n",
       "np.where\n",
       "np.who\n",
       "np.zeros\n",
       "np.zeros_like"
      ]
     },
     "metadata": {},
     "output_type": "display_data"
    }
   ],
   "source": [
    "np.*?"
   ]
  },
  {
   "cell_type": "code",
   "execution_count": 62,
   "metadata": {},
   "outputs": [
    {
     "data": {
      "text/plain": [
       "\u001b[1;31mDocstring:\u001b[0m\n",
       "zeros(shape, dtype=float, order='C')\n",
       "\n",
       "Return a new array of given shape and type, filled with zeros.\n",
       "\n",
       "Parameters\n",
       "----------\n",
       "shape : int or tuple of ints\n",
       "    Shape of the new array, e.g., ``(2, 3)`` or ``2``.\n",
       "dtype : data-type, optional\n",
       "    The desired data-type for the array, e.g., `numpy.int8`.  Default is\n",
       "    `numpy.float64`.\n",
       "order : {'C', 'F'}, optional, default: 'C'\n",
       "    Whether to store multi-dimensional data in row-major\n",
       "    (C-style) or column-major (Fortran-style) order in\n",
       "    memory.\n",
       "\n",
       "Returns\n",
       "-------\n",
       "out : ndarray\n",
       "    Array of zeros with the given shape, dtype, and order.\n",
       "\n",
       "See Also\n",
       "--------\n",
       "zeros_like : Return an array of zeros with shape and type of input.\n",
       "empty : Return a new uninitialized array.\n",
       "ones : Return a new array setting values to one.\n",
       "full : Return a new array of given shape filled with value.\n",
       "\n",
       "Examples\n",
       "--------\n",
       ">>> np.zeros(5)\n",
       "array([ 0.,  0.,  0.,  0.,  0.])\n",
       "\n",
       ">>> np.zeros((5,), dtype=int)\n",
       "array([0, 0, 0, 0, 0])\n",
       "\n",
       ">>> np.zeros((2, 1))\n",
       "array([[ 0.],\n",
       "       [ 0.]])\n",
       "\n",
       ">>> s = (2,2)\n",
       ">>> np.zeros(s)\n",
       "array([[ 0.,  0.],\n",
       "       [ 0.,  0.]])\n",
       "\n",
       ">>> np.zeros((2,), dtype=[('x', 'i4'), ('y', 'i4')]) # custom dtype\n",
       "array([(0, 0), (0, 0)],\n",
       "      dtype=[('x', '<i4'), ('y', '<i4')])\n",
       "\u001b[1;31mType:\u001b[0m      builtin_function_or_method\n"
      ]
     },
     "metadata": {},
     "output_type": "display_data"
    }
   ],
   "source": [
    "np.zeros?"
   ]
  },
  {
   "cell_type": "code",
   "execution_count": 63,
   "metadata": {},
   "outputs": [
    {
     "data": {
      "text/plain": [
       "\u001b[1;31mCall signature:\u001b[0m  \u001b[0mnp\u001b[0m\u001b[1;33m.\u001b[0m\u001b[0mabsolute\u001b[0m\u001b[1;33m(\u001b[0m\u001b[1;33m*\u001b[0m\u001b[0margs\u001b[0m\u001b[1;33m,\u001b[0m \u001b[1;33m**\u001b[0m\u001b[0mkwargs\u001b[0m\u001b[1;33m)\u001b[0m\u001b[1;33m\u001b[0m\u001b[1;33m\u001b[0m\u001b[0m\n",
       "\u001b[1;31mType:\u001b[0m            ufunc\n",
       "\u001b[1;31mString form:\u001b[0m     <ufunc 'absolute'>\n",
       "\u001b[1;31mFile:\u001b[0m            c:\\intelpython3\\lib\\site-packages\\numpy\\__init__.py\n",
       "\u001b[1;31mDocstring:\u001b[0m      \n",
       "absolute(x, /, out=None, *, where=True, casting='same_kind', order='K', dtype=None, subok=True[, signature, extobj])\n",
       "\n",
       "Calculate the absolute value element-wise.\n",
       "\n",
       "``np.abs`` is a shorthand for this function.\n",
       "\n",
       "Parameters\n",
       "----------\n",
       "x : array_like\n",
       "    Input array.\n",
       "out : ndarray, None, or tuple of ndarray and None, optional\n",
       "    A location into which the result is stored. If provided, it must have\n",
       "    a shape that the inputs broadcast to. If not provided or `None`,\n",
       "    a freshly-allocated array is returned. A tuple (possible only as a\n",
       "    keyword argument) must have length equal to the number of outputs.\n",
       "where : array_like, optional\n",
       "    This condition is broadcast over the input. At locations where the\n",
       "    condition is True, the `out` array will be set to the ufunc result.\n",
       "    Elsewhere, the `out` array will retain its original value.\n",
       "    Note that if an uninitialized `out` array is created via the default\n",
       "    ``out=None``, locations within it where the condition is False will\n",
       "    remain uninitialized.\n",
       "**kwargs\n",
       "    For other keyword-only arguments, see the\n",
       "    :ref:`ufunc docs <ufuncs.kwargs>`.\n",
       "\n",
       "Returns\n",
       "-------\n",
       "absolute : ndarray\n",
       "    An ndarray containing the absolute value of\n",
       "    each element in `x`.  For complex input, ``a + ib``, the\n",
       "    absolute value is :math:`\\sqrt{ a^2 + b^2 }`.\n",
       "    This is a scalar if `x` is a scalar.\n",
       "\n",
       "Examples\n",
       "--------\n",
       ">>> x = np.array([-1.2, 1.2])\n",
       ">>> np.absolute(x)\n",
       "array([ 1.2,  1.2])\n",
       ">>> np.absolute(1.2 + 1j)\n",
       "1.5620499351813308\n",
       "\n",
       "Plot the function over ``[-10, 10]``:\n",
       "\n",
       ">>> import matplotlib.pyplot as plt\n",
       "\n",
       ">>> x = np.linspace(start=-10, stop=10, num=101)\n",
       ">>> plt.plot(x, np.absolute(x))\n",
       ">>> plt.show()\n",
       "\n",
       "Plot the function over the complex plane:\n",
       "\n",
       ">>> xx = x + 1j * x[:, np.newaxis]\n",
       ">>> plt.imshow(np.abs(xx), extent=[-10, 10, -10, 10], cmap='gray')\n",
       ">>> plt.show()\n",
       "\u001b[1;31mClass docstring:\u001b[0m\n",
       "Functions that operate element by element on whole arrays.\n",
       "\n",
       "To see the documentation for a specific ufunc, use `info`.  For\n",
       "example, ``np.info(np.sin)``.  Because ufuncs are written in C\n",
       "(for speed) and linked into Python with NumPy's ufunc facility,\n",
       "Python's help() function finds this page whenever help() is called\n",
       "on a ufunc.\n",
       "\n",
       "A detailed explanation of ufuncs can be found in the docs for :ref:`ufuncs`.\n",
       "\n",
       "Calling ufuncs:\n",
       "===============\n",
       "\n",
       "op(*x[, out], where=True, **kwargs)\n",
       "Apply `op` to the arguments `*x` elementwise, broadcasting the arguments.\n",
       "\n",
       "The broadcasting rules are:\n",
       "\n",
       "* Dimensions of length 1 may be prepended to either array.\n",
       "* Arrays may be repeated along dimensions of length 1.\n",
       "\n",
       "Parameters\n",
       "----------\n",
       "*x : array_like\n",
       "    Input arrays.\n",
       "out : ndarray, None, or tuple of ndarray and None, optional\n",
       "    Alternate array object(s) in which to put the result; if provided, it\n",
       "    must have a shape that the inputs broadcast to. A tuple of arrays\n",
       "    (possible only as a keyword argument) must have length equal to the\n",
       "    number of outputs; use `None` for uninitialized outputs to be\n",
       "    allocated by the ufunc.\n",
       "where : array_like, optional\n",
       "    This condition is broadcast over the input. At locations where the\n",
       "    condition is True, the `out` array will be set to the ufunc result.\n",
       "    Elsewhere, the `out` array will retain its original value.\n",
       "    Note that if an uninitialized `out` array is created via the default\n",
       "    ``out=None``, locations within it where the condition is False will\n",
       "    remain uninitialized.\n",
       "**kwargs\n",
       "    For other keyword-only arguments, see the :ref:`ufunc docs <ufuncs.kwargs>`.\n",
       "\n",
       "Returns\n",
       "-------\n",
       "r : ndarray or tuple of ndarray\n",
       "    `r` will have the shape that the arrays in `x` broadcast to; if `out` is\n",
       "    provided, it will be returned. If not, `r` will be allocated and\n",
       "    may contain uninitialized values. If the function has more than one\n",
       "    output, then the result will be a tuple of arrays.\n"
      ]
     },
     "metadata": {},
     "output_type": "display_data"
    }
   ],
   "source": [
    "np.absolute?\n"
   ]
  },
  {
   "cell_type": "code",
   "execution_count": null,
   "metadata": {},
   "outputs": [],
   "source": []
  }
 ],
 "metadata": {
  "kernelspec": {
   "display_name": "Python 3",
   "language": "python",
   "name": "python3"
  },
  "language_info": {
   "codemirror_mode": {
    "name": "ipython",
    "version": 3
   },
   "file_extension": ".py",
   "mimetype": "text/x-python",
   "name": "python",
   "nbconvert_exporter": "python",
   "pygments_lexer": "ipython3",
   "version": "3.6.9"
  },
  "widgets": {
   "application/vnd.jupyter.widget-state+json": {
    "state": {},
    "version_major": 2,
    "version_minor": 0
   }
  }
 },
 "nbformat": 4,
 "nbformat_minor": 4
}
