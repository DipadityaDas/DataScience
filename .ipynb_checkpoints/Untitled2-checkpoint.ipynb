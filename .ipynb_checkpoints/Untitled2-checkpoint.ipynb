{
 "cells": [
  {
   "cell_type": "code",
   "execution_count": 6,
   "metadata": {},
   "outputs": [
    {
     "data": {
      "application/vnd.jupyter.widget-view+json": {
       "model_id": "1ff071ff03a24ec2aae4cdad3a41e3d1",
       "version_major": 2,
       "version_minor": 0
      },
      "text/plain": [
       "Figure(axes=[Axis(label='Test X', scale=LinearScale(), tick_format='0.0f'), Axis(label='Test Y', orientation='…"
      ]
     },
     "metadata": {},
     "output_type": "display_data"
    }
   ],
   "source": [
    "from bqplot import *\n",
    "from IPython.display import display\n",
    "\n",
    "x_data = range(10)\n",
    "y_data = [i ** 2 for i in x_data]\n",
    "\n",
    "x_sc = LinearScale()\n",
    "y_sc = LinearScale()\n",
    "\n",
    "ax_x = Axis(label='Test X', scale=x_sc, tick_format='0.0f')\n",
    "ax_y = Axis(label='Test Y', scale=y_sc,\n",
    "            orientation='vertical', tick_format='0.2f')\n",
    "\n",
    "line = Lines(x=x_data,\n",
    "             y=y_data,\n",
    "             scales={'x': x_sc, 'y': y_sc},\n",
    "             colors=['red', 'yellow'])\n",
    "\n",
    "fig = Figure(axes=[ax_x, ax_y], marks=[line])\n",
    "\n",
    "display(fig)"
   ]
  },
  {
   "cell_type": "code",
   "execution_count": 2,
   "metadata": {},
   "outputs": [],
   "source": [
    "import bqplot\n"
   ]
  },
  {
   "cell_type": "code",
   "execution_count": 3,
   "metadata": {},
   "outputs": [
    {
     "data": {
      "text/plain": [
       "\u001b[1;31mType:\u001b[0m        module\n",
       "\u001b[1;31mString form:\u001b[0m <module 'bqplot' from 'C:\\\\intelpython3\\\\lib\\\\site-packages\\\\bqplot\\\\__init__.py'>\n",
       "\u001b[1;31mFile:\u001b[0m        c:\\intelpython3\\lib\\site-packages\\bqplot\\__init__.py\n",
       "\u001b[1;31mDocstring:\u001b[0m  \n",
       "==============\n",
       "BQPlot Package\n",
       "==============\n",
       "\n",
       ".. currentmodule:: bqplot\n",
       "\n",
       "\n",
       "Each plot starts with a `Figure` object. A `Figure` has a number of `Axis`\n",
       "objects (representing scales) and a number of `Mark` objects. `Mark`\n",
       "objects are a visual representation of the data. Scales transform data\n",
       "into visual properties (typically a number of pixels, a color, etc.).  ::\n",
       "\n",
       "    from bqplot import *\n",
       "    from IPython.display import display\n",
       "\n",
       "    x_data = range(10)\n",
       "    y_data = [i ** 2 for i in x_data]\n",
       "\n",
       "    x_sc = LinearScale()\n",
       "    y_sc = LinearScale()\n",
       "\n",
       "    ax_x = Axis(label='Test X', scale=x_sc, tick_format='0.0f')\n",
       "    ax_y = Axis(label='Test Y', scale=y_sc,\n",
       "                orientation='vertical', tick_format='0.2f')\n",
       "\n",
       "    line = Lines(x=x_data,\n",
       "                 y=y_data,\n",
       "                 scales={'x': x_sc, 'y': y_sc},\n",
       "                 colors=['red', 'yellow'])\n",
       "\n",
       "    fig = Figure(axes=[ax_x, ax_y], marks=[line])\n",
       "\n",
       "    display(fig)\n",
       "\n",
       ".. automodule:: bqplot.figure\n",
       ".. automodule:: bqplot.scales\n",
       ".. automodule:: bqplot.marks\n",
       ".. automodule:: bqplot.axes\n",
       ".. automodule:: bqplot.market_map\n",
       ".. automodule:: bqplot.interacts\n",
       ".. automodule:: bqplot.traits\n",
       ".. automodule:: bqplot.toolbar\n",
       "\n",
       ".. automodule:: bqplot.pyplot\n"
      ]
     },
     "metadata": {},
     "output_type": "display_data"
    }
   ],
   "source": [
    "bqplot?\n"
   ]
  },
  {
   "cell_type": "code",
   "execution_count": 4,
   "metadata": {},
   "outputs": [
    {
     "data": {
      "text/plain": [
       "bqplot.Albers\n",
       "bqplot.AlbersUSA\n",
       "bqplot.Array\n",
       "bqplot.Axis\n",
       "bqplot.Bars\n",
       "bqplot.BaseAxis\n",
       "bqplot.Bins\n",
       "bqplot.Bool\n",
       "bqplot.Boxplot\n",
       "bqplot.CATEGORY10\n",
       "bqplot.CallbackDispatcher\n",
       "bqplot.Color\n",
       "bqplot.ColorAxis\n",
       "bqplot.ColorScale\n",
       "bqplot.DOMWidget\n",
       "bqplot.Date\n",
       "bqplot.DateColorScale\n",
       "bqplot.DateScale\n",
       "bqplot.Dict\n",
       "bqplot.Enum\n",
       "bqplot.EquiRectangular\n",
       "bqplot.Figure\n",
       "bqplot.FlexLine\n",
       "bqplot.Float\n",
       "bqplot.GeoScale\n",
       "bqplot.Gnomonic\n",
       "bqplot.Graph\n",
       "bqplot.GridHeatMap\n",
       "bqplot.HeatMap\n",
       "bqplot.Hist\n",
       "bqplot.Image\n",
       "bqplot.Instance\n",
       "bqplot.Int\n",
       "bqplot.Interaction\n",
       "bqplot.Label\n",
       "bqplot.LayoutTraitType\n",
       "bqplot.LinearScale\n",
       "bqplot.Lines\n",
       "bqplot.List\n",
       "bqplot.LogScale\n",
       "bqplot.Map\n",
       "bqplot.Mark\n",
       "bqplot.Mercator\n",
       "bqplot.OHLC\n",
       "bqplot.OrdinalColorScale\n",
       "bqplot.OrdinalScale\n",
       "bqplot.Orthographic\n",
       "bqplot.PanZoom\n",
       "bqplot.Pie\n",
       "bqplot.Scale\n",
       "bqplot.Scatter\n",
       "bqplot.Stereographic\n",
       "bqplot.Toolbar\n",
       "bqplot.Tooltip\n",
       "bqplot.TraitError\n",
       "bqplot.Tuple\n",
       "bqplot.Type\n",
       "bqplot.Unicode\n",
       "bqplot.Widget\n",
       "bqplot.__builtins__\n",
       "bqplot.__cached__\n",
       "bqplot.__class__\n",
       "bqplot.__delattr__\n",
       "bqplot.__dict__\n",
       "bqplot.__dir__\n",
       "bqplot.__doc__\n",
       "bqplot.__eq__\n",
       "bqplot.__file__\n",
       "bqplot.__format__\n",
       "bqplot.__ge__\n",
       "bqplot.__getattribute__\n",
       "bqplot.__gt__\n",
       "bqplot.__hash__\n",
       "bqplot.__init__\n",
       "bqplot.__init_subclass__\n",
       "bqplot.__le__\n",
       "bqplot.__loader__\n",
       "bqplot.__lt__\n",
       "bqplot.__name__\n",
       "bqplot.__ne__\n",
       "bqplot.__new__\n",
       "bqplot.__package__\n",
       "bqplot.__path__\n",
       "bqplot.__reduce__\n",
       "bqplot.__reduce_ex__\n",
       "bqplot.__repr__\n",
       "bqplot.__setattr__\n",
       "bqplot.__sizeof__\n",
       "bqplot.__spec__\n",
       "bqplot.__str__\n",
       "bqplot.__subclasshook__\n",
       "bqplot.__version__\n",
       "bqplot.array_dimension_bounds\n",
       "bqplot.array_serialization\n",
       "bqplot.array_squeeze\n",
       "bqplot.axes\n",
       "bqplot.colorschemes\n",
       "bqplot.default\n",
       "bqplot.default_tooltip\n",
       "bqplot.figure\n",
       "bqplot.histogram\n",
       "bqplot.interacts\n",
       "bqplot.json\n",
       "bqplot.marks\n",
       "bqplot.np\n",
       "bqplot.os\n",
       "bqplot.pyplot\n",
       "bqplot.register\n",
       "bqplot.register_axis\n",
       "bqplot.register_mark\n",
       "bqplot.register_scale\n",
       "bqplot.scales\n",
       "bqplot.shape\n",
       "bqplot.toolbar\n",
       "bqplot.topo_load\n",
       "bqplot.traits\n",
       "bqplot.validate\n",
       "bqplot.version_info\n",
       "bqplot.warn\n",
       "bqplot.widget_serialization\n",
       "bqplot.widgets"
      ]
     },
     "metadata": {},
     "output_type": "display_data"
    }
   ],
   "source": [
    "bqplot.*?"
   ]
  },
  {
   "cell_type": "code",
   "execution_count": null,
   "metadata": {},
   "outputs": [],
   "source": []
  }
 ],
 "metadata": {
  "kernelspec": {
   "display_name": "Python 3",
   "language": "python",
   "name": "python3"
  },
  "language_info": {
   "codemirror_mode": {
    "name": "ipython",
    "version": 3
   },
   "file_extension": ".py",
   "mimetype": "text/x-python",
   "name": "python",
   "nbconvert_exporter": "python",
   "pygments_lexer": "ipython3",
   "version": "3.6.9"
  },
  "widgets": {
   "application/vnd.jupyter.widget-state+json": {
    "state": {
     "130ae8574d6f45a5a26616b848131e82": {
      "model_module": "@jupyter-widgets/base",
      "model_module_version": "1.2.0",
      "model_name": "LayoutModel",
      "state": {}
     },
     "92f8ff9d632f4a1da49abe18868ef441": {
      "model_module": "@jupyter-widgets/base",
      "model_module_version": "1.2.0",
      "model_name": "LayoutModel",
      "state": {}
     },
     "93f821be69ce426794b0d5dad19798b4": {
      "model_module": "@jupyter-widgets/base",
      "model_module_version": "1.2.0",
      "model_name": "LayoutModel",
      "state": {}
     },
     "dd2572bb5e0a43f09fa9b7c10091d0d6": {
      "model_module": "@jupyter-widgets/base",
      "model_module_version": "1.2.0",
      "model_name": "LayoutModel",
      "state": {}
     },
     "f0d7c4d9cb4641f4ace1e7a990515912": {
      "model_module": "@jupyter-widgets/base",
      "model_module_version": "1.2.0",
      "model_name": "LayoutModel",
      "state": {}
     }
    },
    "version_major": 2,
    "version_minor": 0
   }
  }
 },
 "nbformat": 4,
 "nbformat_minor": 4
}
